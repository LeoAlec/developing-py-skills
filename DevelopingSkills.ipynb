{
  "nbformat": 4,
  "nbformat_minor": 0,
  "metadata": {
    "colab": {
      "provenance": [],
      "toc_visible": true,
      "authorship_tag": "ABX9TyNL1RV7zGdXRLmtJZ9vhJj8",
      "include_colab_link": true
    },
    "kernelspec": {
      "name": "python3",
      "display_name": "Python 3"
    },
    "language_info": {
      "name": "python"
    }
  },
  "cells": [
    {
      "cell_type": "markdown",
      "metadata": {
        "id": "view-in-github",
        "colab_type": "text"
      },
      "source": [
        "<a href=\"https://colab.research.google.com/github/LeoAlec/developing-py-skills/blob/main/DevelopingSkills.ipynb\" target=\"_parent\"><img src=\"https://colab.research.google.com/assets/colab-badge.svg\" alt=\"Open In Colab\"/></a>"
      ]
    },
    {
      "cell_type": "markdown",
      "source": [
        "#**Files**"
      ],
      "metadata": {
        "id": "7G5rDjVL2p76"
      }
    },
    {
      "cell_type": "markdown",
      "source": [
        "**How to *open* a file:**\n",
        "\n",
        "\n",
        "```\n",
        "arq = open (<file path>, <type of opening>)\n",
        "```\n",
        "- path: location with full path in the file system where text data can be found or written\n",
        "\n",
        "- type of opening: indicates whether you want to open the file for reading (r-read) or writing (w-write)\n",
        "$$$$\n",
        "\n",
        "**How to *write* information to a text file:**\n",
        "```\n",
        "arq.write(<string>)\n",
        "#/\n",
        "arq.writelines(<string>)\n",
        "```\n",
        "- write: writes the string content to a text file, whereas writelines does exactly the same thing, but assigning a Carriage Return to each line written in the file\n",
        "$$$$\n",
        "\n",
        "**How to *read informations* in a file**\n",
        "\n",
        "```\n",
        "arq.readline()\n",
        "# /\n",
        "arq.readlines()\n",
        "```\n",
        "\n",
        "- readline(): reads a line from the text file and returns it for temporary storage in a variable, printing or whatever\n",
        "- readlines(): reads the entire contents of the file at once\n",
        "\n",
        "**How to *close* a file:**\n",
        "```\n",
        "arq.close()\n",
        "```\n",
        "after all this stuff we have to finish the operation using this line of code\n",
        "\n",
        "\n",
        "\n"
      ],
      "metadata": {
        "id": "YZ-lV2W63LLy"
      }
    },
    {
      "cell_type": "markdown",
      "source": [
        "##**DOCX**\n",
        "```\n",
        "import docx\n",
        "```\n",
        "native librart for Word FILES\n",
        "$$$$\n",
        "\n",
        "**Creating a document:**\n",
        "```\n",
        "Document()\n",
        "```\n",
        "\n",
        "- add_heading\n",
        "\n",
        "- add_paragraph\n",
        "\n",
        "- add_picture\n",
        "\n",
        "- doc.save('c:\\\\LeoAlecTop\\\\myfile.docx')"
      ],
      "metadata": {
        "id": "sCzfQSYaA_10"
      }
    },
    {
      "cell_type": "markdown",
      "source": [
        "## **XLSX**\n",
        "\n",
        "Excel files\n",
        "\n",
        "```\n",
        "import openpyxl\n",
        "\n",
        "excel_table = load_workbook('c:\\\\LeoAlecTop\\\\myexcelfile.docx'\n",
        "\n",
        "spreadsheet = excel_table['SpreedSheetN']\n",
        "```\n",
        "- **load_workbook:** upload a file\n",
        "\n",
        "- **excel_table.save:** save modifications\n",
        "\n",
        "- **spreadsheet.column_dimensions['Coluna'].width:**  define the width of each column in standard number of characters\n",
        "\n",
        "- **excel_table.['A1'].font = Font(bold=Bool, size=X):** size of the font\n",
        "\n",
        "- **excel_table.['A1'].fill = PatternFill(start_color='FFFFFF', end_color='FFFFFF', fill_type='solid')**\n",
        "\n",
        "rember to always .save at the final of all steps"
      ],
      "metadata": {
        "id": "UAdSfIlLFUog"
      }
    },
    {
      "cell_type": "markdown",
      "source": [
        "#SQLite\n",
        "**What is SQLite?!**\n",
        "\n",
        "This is just a tool. The MOST important step when creating the data base is the aquired by experience and theory.\n",
        "\n",
        "It's a lightweight, serverless, self-contained, and highly reliable relational database management system; embedded directly into applications.doesn’t need a dedicated server process and can be easily integrated into applications for local storage needs\n",
        "\n",
        "**Advantages:**\n",
        "- Use of few hardware resources\n",
        "- applications up to medium size\n",
        "- Interface with programming in general purpose languages\n",
        "\n"
      ],
      "metadata": {
        "id": "-Qjd8MXvM38Y"
      }
    },
    {
      "cell_type": "markdown",
      "source": [
        "CREATING THE STRUCTURE:"
      ],
      "metadata": {
        "id": "voF2cn9SPHZi"
      }
    },
    {
      "cell_type": "code",
      "source": [
        "import sqlite3\n",
        "\n",
        "def create_table(c):\n",
        "    # Criar a tabela de alunos, se não existir\n",
        "    c.execute(\"\"\"\n",
        "    CREATE TABLE IF NOT EXISTS tb_aluno (\n",
        "        idt_student INTEGER PRIMARY KEY AUTOINCREMENT,\n",
        "        nme_student VARCHAR(200) NOT NULL,\n",
        "        not_student DECIMAL(3,1) NOT NULL,\n",
        "        flt_student INTEGER NOT NULL\n",
        "    );\n",
        "    \"\"\")\n",
        "\n",
        "def insert_data(c, name, note, absence):\n",
        "    c.execute(\"\"\"\n",
        "    INSERT INTO tb_student (nme_student, not_student, flt_student)\n",
        "    VALUES (?, ?, ?);\n",
        "    \"\"\", (name, note, absence))\n",
        "\n",
        "def main():\n",
        "    try:\n",
        "        cnn = sqlite3.connect(\"students.db\")\n",
        "\n",
        "        c = cnn.cursor()\n",
        "\n",
        "        create_table(c)\n",
        "        print(\"Tabela de Alunos criada ou já existente\")\n",
        "\n",
        "        insert_data(c, 'Léo', 8.9, 3)\n",
        "        insert_data(c, 'Alec', 6.0, 4)\n",
        "        insert_data(c, 'Lee Priest', 8.2, 1)\n",
        "\n",
        "        cnn.commit()\n",
        "\n",
        "        print(\"Data entered successfully\")\n",
        "\n",
        "    except sqlite3.Error as e:\n",
        "        print(f\"But i could not acess :[\")\n",
        "\n",
        "    finally:\n",
        "        if c:\n",
        "            c.close()\n",
        "        if cnn:\n",
        "            cnn.close()\n",
        "        print(\"Connection finished :[\")\n",
        "\n",
        "if __name__ == \"__main__\":\n",
        "    main()\n"
      ],
      "metadata": {
        "colab": {
          "base_uri": "https://localhost:8080/"
        },
        "id": "4S5PmwQPPCZm",
        "outputId": "ea984c19-7f3f-4406-ef43-296aaddf2d93"
      },
      "execution_count": null,
      "outputs": [
        {
          "output_type": "stream",
          "name": "stdout",
          "text": [
            "Tabela de Alunos criada ou já existente\n",
            "But i could not acess :[\n",
            "Connection finished :[\n"
          ]
        }
      ]
    },
    {
      "cell_type": "code",
      "source": [
        "import sqlite3\n",
        "\n",
        "def main():\n",
        "    cnn = sqlite3.connect(\"students.db\")\n",
        "    c = cnn.cursor()\n",
        "\n",
        "    cmd = \"INSERT INTO tb_student(student_name, student_grade, student_absences) VALUES (?, ?, ?)\"\n",
        "\n",
        "    while True:\n",
        "        print(\">>> Student Registration\")\n",
        "        name = input(\"Name: \")\n",
        "        grade = float(input(\"Grade: \"))\n",
        "        absences = int(input(\"Absences: \"))\n",
        "\n",
        "        c.execute(cmd, [name, grade, absences])\n",
        "        cnn.commit()\n",
        "        print(\"-> Student successfully registered\")\n",
        "\n",
        "        option = input(\"Exit Y/N? \").upper()\n",
        "        if option == 'Y':\n",
        "            break\n",
        "\n",
        "    c.close()\n",
        "    cnn.close()\n",
        "\n",
        "if __name__ == \"__main__\":\n",
        "    main()\n"
      ],
      "metadata": {
        "collapsed": true,
        "colab": {
          "base_uri": "https://localhost:8080/",
          "height": 367
        },
        "id": "gD_oGmXqQsI_",
        "outputId": "8a4ca655-91d7-4c0f-a5b3-5ae4fd6e0087"
      },
      "execution_count": null,
      "outputs": [
        {
          "name": "stdout",
          "output_type": "stream",
          "text": [
            ">>> Student Registration\n",
            "Name: leo\n",
            "Grade: 9\n",
            "Absences: 2\n"
          ]
        },
        {
          "output_type": "error",
          "ename": "OperationalError",
          "evalue": "no such table: tb_student",
          "traceback": [
            "\u001b[0;31m---------------------------------------------------------------------------\u001b[0m",
            "\u001b[0;31mOperationalError\u001b[0m                          Traceback (most recent call last)",
            "\u001b[0;32m<ipython-input-5-45a955cf1cf0>\u001b[0m in \u001b[0;36m<cell line: 26>\u001b[0;34m()\u001b[0m\n\u001b[1;32m     25\u001b[0m \u001b[0;34m\u001b[0m\u001b[0m\n\u001b[1;32m     26\u001b[0m \u001b[0;32mif\u001b[0m \u001b[0m__name__\u001b[0m \u001b[0;34m==\u001b[0m \u001b[0;34m\"__main__\"\u001b[0m\u001b[0;34m:\u001b[0m\u001b[0;34m\u001b[0m\u001b[0;34m\u001b[0m\u001b[0m\n\u001b[0;32m---> 27\u001b[0;31m     \u001b[0mmain\u001b[0m\u001b[0;34m(\u001b[0m\u001b[0;34m)\u001b[0m\u001b[0;34m\u001b[0m\u001b[0;34m\u001b[0m\u001b[0m\n\u001b[0m",
            "\u001b[0;32m<ipython-input-5-45a955cf1cf0>\u001b[0m in \u001b[0;36mmain\u001b[0;34m()\u001b[0m\n\u001b[1;32m     13\u001b[0m         \u001b[0mabsences\u001b[0m \u001b[0;34m=\u001b[0m \u001b[0mint\u001b[0m\u001b[0;34m(\u001b[0m\u001b[0minput\u001b[0m\u001b[0;34m(\u001b[0m\u001b[0;34m\"Absences: \"\u001b[0m\u001b[0;34m)\u001b[0m\u001b[0;34m)\u001b[0m\u001b[0;34m\u001b[0m\u001b[0;34m\u001b[0m\u001b[0m\n\u001b[1;32m     14\u001b[0m \u001b[0;34m\u001b[0m\u001b[0m\n\u001b[0;32m---> 15\u001b[0;31m         \u001b[0mc\u001b[0m\u001b[0;34m.\u001b[0m\u001b[0mexecute\u001b[0m\u001b[0;34m(\u001b[0m\u001b[0mcmd\u001b[0m\u001b[0;34m,\u001b[0m \u001b[0;34m[\u001b[0m\u001b[0mname\u001b[0m\u001b[0;34m,\u001b[0m \u001b[0mgrade\u001b[0m\u001b[0;34m,\u001b[0m \u001b[0mabsences\u001b[0m\u001b[0;34m]\u001b[0m\u001b[0;34m)\u001b[0m\u001b[0;34m\u001b[0m\u001b[0;34m\u001b[0m\u001b[0m\n\u001b[0m\u001b[1;32m     16\u001b[0m         \u001b[0mcnn\u001b[0m\u001b[0;34m.\u001b[0m\u001b[0mcommit\u001b[0m\u001b[0;34m(\u001b[0m\u001b[0;34m)\u001b[0m\u001b[0;34m\u001b[0m\u001b[0;34m\u001b[0m\u001b[0m\n\u001b[1;32m     17\u001b[0m         \u001b[0mprint\u001b[0m\u001b[0;34m(\u001b[0m\u001b[0;34m\"-> Student successfully registered\"\u001b[0m\u001b[0;34m)\u001b[0m\u001b[0;34m\u001b[0m\u001b[0;34m\u001b[0m\u001b[0m\n",
            "\u001b[0;31mOperationalError\u001b[0m: no such table: tb_student"
          ]
        }
      ]
    },
    {
      "cell_type": "code",
      "source": [
        "import sqlite3\n",
        "\n",
        "def main():\n",
        "    cnn = sqlite3.connect(\"students.db\")\n",
        "    c = cnn.cursor()\n",
        "\n",
        "    cmd_sel = \"SELECT * FROM tb_student WHERE student_id = ?\"\n",
        "    cmd_upd = \"UPDATE tb_student SET student_name=?, student_grade=?, student_absences=? WHERE student_id=?\"\n",
        "\n",
        "    while True:\n",
        "        print(\">>> Student Update\")\n",
        "        id = int(input(\"What is the student's ID? \"))\n",
        "\n",
        "        c.execute(cmd_sel, [id])\n",
        "        data = c.fetchone()\n",
        "        if data is None:\n",
        "            print(\"ID not found\")\n",
        "            continue\n",
        "\n",
        "        print(\"Current data:\", data)\n",
        "        name = input(\"Name: \")\n",
        "        grade = float(input(\"Grade: \"))\n",
        "        absences = float(input(\"Absences: \"))\n",
        "\n",
        "        c.execute(cmd_upd, [name, grade, absences, id])\n",
        "        cnn.commit()\n",
        "\n",
        "        option = input(\"Exit Y/N? \").upper()\n",
        "        if option == 'Y':\n",
        "            break\n",
        "\n",
        "    c.close()\n",
        "    cnn.close()\n",
        "\n",
        "if __name__ == \"__main__\":\n",
        "    main()\n"
      ],
      "metadata": {
        "colab": {
          "base_uri": "https://localhost:8080/"
        },
        "id": "svZW1clKQyqQ",
        "outputId": "98fbb5bb-d6e7-4759-9ffe-ee2d428fa5d1"
      },
      "execution_count": null,
      "outputs": [
        {
          "metadata": {
            "tags": null
          },
          "name": "stdout",
          "output_type": "stream",
          "text": [
            ">>> Student Update\n"
          ]
        }
      ]
    },
    {
      "cell_type": "code",
      "source": [
        "import sqlite3\n",
        "\n",
        "def main():\n",
        "    cnn = sqlite3.connect(\"students.db\")\n",
        "    c = cnn.cursor()\n",
        "\n",
        "    cmd_sel = \"SELECT * FROM tb_student WHERE student_id = ?\"\n",
        "    cmd_del = \"DELETE FROM tb_student WHERE student_id = ?\"\n",
        "\n",
        "    while True:\n",
        "        print(\">>> Student Deletion\")\n",
        "        id = int(input(\"What is the student's ID? \"))\n",
        "\n",
        "        c.execute(cmd_sel, [id])\n",
        "        data = c.fetchone()\n",
        "        if data is None:\n",
        "            print(\"ID not found\")\n",
        "            continue\n",
        "\n",
        "        print(\"Current data:\", data)\n",
        "        conf = input(\"Confirm deletion Y/N? \").upper()\n",
        "        if conf == 'Y':\n",
        "            c.execute(cmd_del, [id])\n",
        "            cnn.commit()\n",
        "            print(\"Student Deleted!\")\n",
        "\n",
        "        option = input(\"Exit Y/N? \").upper()\n",
        "        if option == 'Y':\n",
        "            break\n",
        "\n",
        "    c.close()\n",
        "    cnn.close()\n",
        "\n",
        "if __name__ == \"__main__\":\n",
        "    main()\n"
      ],
      "metadata": {
        "id": "Y031Q6snRcA6"
      },
      "execution_count": null,
      "outputs": []
    },
    {
      "cell_type": "markdown",
      "source": [],
      "metadata": {
        "id": "23w6Nr6XPTBJ"
      }
    }
  ]
}